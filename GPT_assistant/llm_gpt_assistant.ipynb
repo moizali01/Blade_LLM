{
 "cells": [
  {
   "cell_type": "code",
   "execution_count": 14,
   "metadata": {},
   "outputs": [],
   "source": [
    "import openai\n",
    "import time\n",
    "from dotenv import load_dotenv\n"
   ]
  },
  {
   "cell_type": "code",
   "execution_count": 15,
   "metadata": {},
   "outputs": [],
   "source": [
    "def append_to_file(query, answer, filename='gpt_3.5_turbo_without_call_graph.txt'):\n",
    "    with open(filename, 'a') as file:\n",
    "        file.write(\"User\\n\")\n",
    "        file.write(query + '\\n\\n')\n",
    "        file.write(\"Debloater\\n\")\n",
    "        file.write(answer + '\\n\\n')"
   ]
  },
  {
   "cell_type": "markdown",
   "metadata": {},
   "source": [
    "## Initialize the assistant"
   ]
  },
  {
   "cell_type": "code",
   "execution_count": 16,
   "metadata": {},
   "outputs": [
    {
     "name": "stdout",
     "output_type": "stream",
     "text": [
      "completed\n",
      "FileCounts(cancelled=0, completed=2, failed=0, in_progress=0, total=2)\n"
     ]
    }
   ],
   "source": [
    "\n",
    "# Assummes you have a .env file containing OPENAI_API_KEY=<your key> in the same directory\n",
    "load_dotenv()\n",
    "\n",
    "# Initialize OpenAI Client\n",
    "client = openai.Client()\n",
    "\n",
    "# Step 1: Create an Assistant\n",
    "assistant = client.beta.assistants.create(\n",
    "    name=\"Debloater\",\n",
    "    instructions=\"\"\"You're a senior software engineer whose job is to understand if removing a particular code snippet will affect the overall generality and performance of a program.\n",
    "Try Understanding the entire program that is stored in the vector database to analyze the input by the user. Search the vector store to find the code snippet provided by the user and use the entire program as context to understand the importance of the code snippet provided by the user. The vector database also contains the function call graph for the entire program. Use that to understand the flow of the program and the importance of the code snippet in the entire program.\n",
    "\n",
    "Guess the use of the lines of code the user provides in reference to the entire program.\n",
    "\n",
    "If you don't know the answer, just say that you don't know, don't try to make up an answer.\n",
    "1) answer in a score from 1 to 10, that answers the importance of code to the entire program's generality, functionality and security.\n",
    "2) say Remove, or Do not Remove, to tell if removing this code is fine considering the generality, functionality and security implications.\n",
    "3) Give an explanation on why it can or cannot be removed.\n",
    "\n",
    "Follow output format:\n",
    "1) Importance Score : <number>\n",
    "2) <Remove> or <Don't Remove>\n",
    "3) <Explanation>\n",
    "\n",
    "Make sure you don't add any information on your own. Reply in 3 lines to cover each point  \n",
    "\"\"\",\n",
    "    tools=[{\"type\": \"file_search\"}],\n",
    "    # model=\"gpt-4-1106-preview\"\n",
    "    model=\"gpt-3.5-turbo-1106\"\n",
    ")\n",
    "\n",
    "\n",
    "# Give file to assistant\n",
    "\n",
    "# Create a vector store\n",
    "vector_store = client.beta.vector_stores.create(name=\"rm-code\")\n",
    " \n",
    "# Ready the files for upload to OpenAI\n",
    "# file_paths = [\"original.txt\"]\n",
    "file_paths = [\"original.txt\", \"call_graph.txt\"]\n",
    "file_streams = [open(path, \"rb\") for path in file_paths]\n",
    " \n",
    "# Use the upload and poll SDK helper to upload the files, add them to the vector store,\n",
    "# and poll the status of the file batch for completion.\n",
    "file_batch = client.beta.vector_stores.file_batches.upload_and_poll(\n",
    "  vector_store_id=vector_store.id, files=file_streams\n",
    ")\n",
    " \n",
    "# You can print the status and the file counts of the batch to see the result of this operation.\n",
    "print(file_batch.status)\n",
    "print(file_batch.file_counts)\n",
    "\n",
    "\n",
    "assistant = client.beta.assistants.update(\n",
    "  assistant_id=assistant.id,\n",
    "  tool_resources={\"file_search\": {\"vector_store_ids\": [vector_store.id]}},\n",
    ")\n",
    "\n"
   ]
  },
  {
   "cell_type": "markdown",
   "metadata": {},
   "source": [
    "### Function to give input"
   ]
  },
  {
   "cell_type": "code",
   "execution_count": 17,
   "metadata": {},
   "outputs": [],
   "source": [
    "def client_query(user_query, client=client, assistant=assistant):\n",
    "    # Step 2: Create a Thread\n",
    "    thread = client.beta.threads.create()\n",
    "\n",
    "    # Step 3: Add a Message to a Thread\n",
    "    message = client.beta.threads.messages.create(\n",
    "        thread_id=thread.id,\n",
    "        role=\"user\",\n",
    "        content=user_query\n",
    "    )\n",
    "\n",
    "    # Step 4: Run the Assistant\n",
    "    run = client.beta.threads.runs.create(\n",
    "        thread_id=thread.id,\n",
    "        assistant_id=assistant.id,\n",
    "    )\n",
    "\n",
    "    # Waits for the run to be completed. \n",
    "    while True:\n",
    "        run_status = client.beta.threads.runs.retrieve(thread_id=thread.id, run_id=run.id)\n",
    "        if run_status.status == \"completed\":\n",
    "            break\n",
    "        elif run_status.status == \"failed\":\n",
    "            print(\"Run failed:\", run_status.last_error)\n",
    "            break\n",
    "        time.sleep(2)  # wait for 2 seconds before checking again\n",
    "\n",
    "\n",
    "    # Step 5: Parse the Assistant's Response and print the Results\n",
    "    messages = client.beta.threads.messages.list(\n",
    "        thread_id=thread.id\n",
    "    )\n",
    "\n",
    "    # Prints the messages the latest message the bottom\n",
    "    number_of_messages = len(messages.data)\n",
    "    print( f'Number of messages: {number_of_messages}')\n",
    "\n",
    "    for message in reversed(messages.data):\n",
    "        role = message.role  \n",
    "        for content in message.content:\n",
    "            if content.type == 'text':\n",
    "                response = content.text.value \n",
    "                print(f'\\n{role}: {response}')\n",
    "\n",
    "    return messages.data"
   ]
  },
  {
   "cell_type": "markdown",
   "metadata": {},
   "source": [
    "## LLM Matches LLVM COV\n",
    "\n",
    "### Case 2"
   ]
  },
  {
   "cell_type": "code",
   "execution_count": 8,
   "metadata": {},
   "outputs": [
    {
     "name": "stdout",
     "output_type": "stream",
     "text": [
      "Number of messages: 2\n",
      "\n",
      "user: while (1) {\n",
      "  tmp___19 = quote((char const *)ent->fts_path);\n",
      "  tmp___20 = gettext(\n",
      "      \"WARNING: Circular directory structure.\n",
      "This almost certainly means \"\n",
      "      \"that you have a corrupted file system.\n",
      "NOTIFY YOUR SYSTEM \"\n",
      "      \"MANAGER.\n",
      "The following directory is part of the cycle:\n",
      "  %s\n",
      "\");\n",
      "  error(0, 0, (char const *)tmp___20, tmp___19);\n",
      "  goto while_break___0;\n",
      "}\n",
      "\n",
      "assistant: 1) Importance Score: 5\n",
      "2) Remove\n",
      "3) The code snippet seems to be a part of handling circular directory structures and notifying about a corrupted file system. While it provides a warning message, its removal would not significantly impact the overall generality, functionality, or security of the program, as it is more focused on informational output rather than critical functionality. Therefore, it can be removed without major consequences   .\n"
     ]
    }
   ],
   "source": [
    "in_val = \"\"\"while (1) {\n",
    "  tmp___19 = quote((char const *)ent->fts_path);\n",
    "  tmp___20 = gettext(\n",
    "      \"WARNING: Circular directory structure.\\nThis almost certainly means \"\n",
    "      \"that you have a corrupted file system.\\nNOTIFY YOUR SYSTEM \"\n",
    "      \"MANAGER.\\nThe following directory is part of the cycle:\\n  %s\\n\");\n",
    "  error(0, 0, (char const *)tmp___20, tmp___19);\n",
    "  goto while_break___0;\n",
    "}\"\"\"\n",
    "\n",
    "x = client_query(in_val)\n",
    "\n",
    "\n",
    "append_to_file(x[1].content[0].text.value, x[0].content[0].text.value)"
   ]
  },
  {
   "cell_type": "markdown",
   "metadata": {},
   "source": [
    "### Case 4"
   ]
  },
  {
   "cell_type": "code",
   "execution_count": 19,
   "metadata": {},
   "outputs": [
    {
     "name": "stdout",
     "output_type": "stream",
     "text": [
      "Number of messages: 2\n",
      "\n",
      "user: if ((unsigned int)s == 2U) {\n",
      " if ((unsigned int)is_empty_directory == 4U) {\n",
      "   s = excise(fts, ent, x, (_Bool)1);\n",
      "   fts_skip_tree(fts, ent);\n",
      " }\n",
      "}\n",
      "\n",
      "assistant: 1) Importance Score: 8\n",
      "2) Do not Remove\n",
      "3) The provided code snippet is part of the \"excise\" function, which is responsible for removing files or directories. Removing this code snippet could affect the program's ability to correctly handle the removal of directories based on specific conditions, potentially leading to unexpected behavior or errors in the file removal process .\n"
     ]
    }
   ],
   "source": [
    "in_val = \"\"\"if ((unsigned int)s == 2U) {\n",
    " if ((unsigned int)is_empty_directory == 4U) {\n",
    "   s = excise(fts, ent, x, (_Bool)1);\n",
    "   fts_skip_tree(fts, ent);\n",
    " }\n",
    "}\"\"\"\n",
    "\n",
    "x = client_query(in_val)\n",
    "\n",
    "\n",
    "append_to_file(x[1].content[0].text.value, x[0].content[0].text.value)"
   ]
  },
  {
   "cell_type": "markdown",
   "metadata": {},
   "source": [
    "### Case 5"
   ]
  },
  {
   "cell_type": "code",
   "execution_count": 10,
   "metadata": {},
   "outputs": [
    {
     "name": "stdout",
     "output_type": "stream",
     "text": [
      "Number of messages: 2\n",
      "\n",
      "user: if (status != 0) {\n",
      " tmp = gettext(\"Try `%s --help' for more information.\n",
      "\");\n",
      " fprintf(stderr, (char const *)tmp, program_name);\n",
      "} else {\n",
      " tmp___0 = gettext(\"Usage: %s [OPTION]... FILE...\n",
      "\");\n",
      " printf((char const *)tmp___0, program_name);\n",
      " tmp___1 = gettext(\"Remove (unlink) the FILE(s).\n",
      "\n",
      "  -f, --force         \"\n",
      "                   \"  ignore nonexistent files, never prompt\n",
      "  -i        \"\n",
      "                   \"            prompt before every removal\n",
      "\");\n",
      " fputs_unlocked((char const *)tmp___1, stdout);\n",
      " tmp___2 = gettext(\n",
      "     \"  -I                    prompt once before removing more than three \"\n",
      "     \"files, or\n",
      "                          when removing recursively.  \"\n",
      "     \"Less intrusive than -i,\n",
      "                          while still \"\n",
      "     \"giving protection against most mistakes\n",
      "      --interactive[=WHEN] \"\n",
      "     \" prompt according to WHEN: never, once (-I), or\n",
      "                   \"\n",
      "     \"       always (-i).  Without WHEN, prompt always\n",
      "\");\n",
      " fputs_unlocked((char const *)tmp___2, stdout);\n",
      " tmp___3 =\n",
      "     gettext(\"      --one-file-system  when removing a hierarchy \"\n",
      "             \"recursively, skip any\n",
      "                          directory \"\n",
      "             \"that is on a file system different from\n",
      "                   \"\n",
      "             \"       that of the corresponding command line argument\n",
      "\");\n",
      " fputs_unlocked((char const *)tmp___3, stdout);\n",
      " tmp___4 = gettext(\n",
      "     \"      --no-preserve-root  do not treat `/' specially\n",
      "      \"\n",
      "     \"--preserve-root   do not remove `/' (default)\n",
      "  -r, -R, \"\n",
      "     \"--recursive   remove directories and their contents recursively\n",
      "  \"\n",
      "     \"-v, --verbose         explain what is being done\n",
      "\");\n",
      " fputs_unlocked((char const *)tmp___4, stdout);\n",
      " tmp___5 = gettext(\"      --help     display this help and exit\n",
      "\");\n",
      " fputs_unlocked((char const *)tmp___5, stdout);\n",
      " tmp___6 = gettext(\"      --version  output version information and exit\n",
      "\");\n",
      " fputs_unlocked((char const *)tmp___6, stdout);\n",
      " tmp___7 = gettext(\"\n",
      "By default, rm does not remove directories.  Use the \"\n",
      "                   \"--recursive (-r or -R)\n",
      "option to remove each listed \"\n",
      "                   \"directory, too, along with all of its contents.\n",
      "\");\n",
      " fputs_unlocked((char const *)tmp___7, stdout);\n",
      " tmp___8 = gettext(\"\n",
      "To remove a file whose name starts with a `-', for \"\n",
      "                   \"example `-foo',\n",
      "use one of these commands:\n",
      "  %s -- \"\n",
      "                   \"-foo\n",
      "\n",
      "  %s ./-foo\n",
      "\");\n",
      " printf((char const *)tmp___8, program_name, program_name);\n",
      " tmp___9 = gettext(\"\n",
      "Note that if you use rm to remove a file, it is \"\n",
      "                   \"usually possible to recover\n",
      "the contents of that \"\n",
      "                   \"file.  If you want more assurance that the contents \"\n",
      "                   \"are\n",
      "truly unrecoverable, consider using shred.\n",
      "\");\n",
      " fputs_unlocked((char const *)tmp___9, stdout);\n",
      " emit_ancillary_info();\n",
      "}\n",
      "\n",
      "assistant: 1) Importance Score: 7\n",
      "2) Do not Remove\n",
      "3) The provided code snippet is responsible for displaying usage information for the program, including options for removing files (\"-f, --force\", \"--recursive\"), prompting behavior, and additional information about the behavior of the \"rm\" command. Removing this code would significantly impact the usability and functionality of the program by removing crucial user guidance and explanatory details  .\n"
     ]
    }
   ],
   "source": [
    "in_val = \"\"\"if (status != 0) {\n",
    " tmp = gettext(\"Try `%s --help\\' for more information.\\n\");\n",
    " fprintf(stderr, (char const *)tmp, program_name);\n",
    "} else {\n",
    " tmp___0 = gettext(\"Usage: %s [OPTION]... FILE...\\n\");\n",
    " printf((char const *)tmp___0, program_name);\n",
    " tmp___1 = gettext(\"Remove (unlink) the FILE(s).\\n\\n  -f, --force         \"\n",
    "                   \"  ignore nonexistent files, never prompt\\n  -i        \"\n",
    "                   \"            prompt before every removal\\n\");\n",
    " fputs_unlocked((char const *)tmp___1, stdout);\n",
    " tmp___2 = gettext(\n",
    "     \"  -I                    prompt once before removing more than three \"\n",
    "     \"files, or\\n                          when removing recursively.  \"\n",
    "     \"Less intrusive than -i,\\n                          while still \"\n",
    "     \"giving protection against most mistakes\\n      --interactive[=WHEN] \"\n",
    "     \" prompt according to WHEN: never, once (-I), or\\n                   \"\n",
    "     \"       always (-i).  Without WHEN, prompt always\\n\");\n",
    " fputs_unlocked((char const *)tmp___2, stdout);\n",
    " tmp___3 =\n",
    "     gettext(\"      --one-file-system  when removing a hierarchy \"\n",
    "             \"recursively, skip any\\n                          directory \"\n",
    "             \"that is on a file system different from\\n                   \"\n",
    "             \"       that of the corresponding command line argument\\n\");\n",
    " fputs_unlocked((char const *)tmp___3, stdout);\n",
    " tmp___4 = gettext(\n",
    "     \"      --no-preserve-root  do not treat `/\\' specially\\n      \"\n",
    "     \"--preserve-root   do not remove `/\\' (default)\\n  -r, -R, \"\n",
    "     \"--recursive   remove directories and their contents recursively\\n  \"\n",
    "     \"-v, --verbose         explain what is being done\\n\");\n",
    " fputs_unlocked((char const *)tmp___4, stdout);\n",
    " tmp___5 = gettext(\"      --help     display this help and exit\\n\");\n",
    " fputs_unlocked((char const *)tmp___5, stdout);\n",
    " tmp___6 = gettext(\"      --version  output version information and exit\\n\");\n",
    " fputs_unlocked((char const *)tmp___6, stdout);\n",
    " tmp___7 = gettext(\"\\nBy default, rm does not remove directories.  Use the \"\n",
    "                   \"--recursive (-r or -R)\\noption to remove each listed \"\n",
    "                   \"directory, too, along with all of its contents.\\n\");\n",
    " fputs_unlocked((char const *)tmp___7, stdout);\n",
    " tmp___8 = gettext(\"\\nTo remove a file whose name starts with a `-\\', for \"\n",
    "                   \"example `-foo\\',\\nuse one of these commands:\\n  %s -- \"\n",
    "                   \"-foo\\n\\n  %s ./-foo\\n\");\n",
    " printf((char const *)tmp___8, program_name, program_name);\n",
    " tmp___9 = gettext(\"\\nNote that if you use rm to remove a file, it is \"\n",
    "                   \"usually possible to recover\\nthe contents of that \"\n",
    "                   \"file.  If you want more assurance that the contents \"\n",
    "                   \"are\\ntruly unrecoverable, consider using shred.\\n\");\n",
    " fputs_unlocked((char const *)tmp___9, stdout);\n",
    " emit_ancillary_info();\n",
    "}\"\"\"\n",
    "\n",
    "\n",
    "x = client_query(in_val)\n",
    "\n",
    "\n",
    "append_to_file(x[1].content[0].text.value, x[0].content[0].text.value)"
   ]
  },
  {
   "cell_type": "markdown",
   "metadata": {},
   "source": [
    "## LLM response says don't remove but the code is not covered\n",
    "\n",
    "### Case 3: "
   ]
  },
  {
   "cell_type": "code",
   "execution_count": 11,
   "metadata": {},
   "outputs": [
    {
     "name": "stdout",
     "output_type": "stream",
     "text": [
      "Number of messages: 2\n",
      "\n",
      "user: static struct hash_entry *allocate_entry(Hash_table *table___0) {\n",
      " struct hash_entry *new;\n",
      "\n",
      "\n",
      " {\n",
      "   if (table___0->free_entry_list) {\n",
      "     new = table___0->free_entry_list;\n",
      "     table___0->free_entry_list = new->next;\n",
      "   } else {\n",
      "     new = (struct hash_entry *)malloc(sizeof(*new));\n",
      "   }\n",
      "   return (new);\n",
      " }\n",
      "}\n",
      "\n",
      "assistant: 1) Importance Score: 7\n",
      "2) Do not Remove\n",
      "3) The provided code snippet is responsible for managing the allocation of new hash entries in the program. Removing this code could significantly impact the program's functionality by causing memory allocation issues or potential memory leaks, affecting the overall performance and reliability of the program   .\n"
     ]
    }
   ],
   "source": [
    "in_val = \"\"\"static struct hash_entry *allocate_entry(Hash_table *table___0) {\n",
    " struct hash_entry *new;\n",
    "\n",
    "\n",
    " {\n",
    "   if (table___0->free_entry_list) {\n",
    "     new = table___0->free_entry_list;\n",
    "     table___0->free_entry_list = new->next;\n",
    "   } else {\n",
    "     new = (struct hash_entry *)malloc(sizeof(*new));\n",
    "   }\n",
    "   return (new);\n",
    " }\n",
    "}\"\"\"\n",
    "\n",
    "x = client_query(in_val)\n",
    "\n",
    "append_to_file(x[1].content[0].text.value, x[0].content[0].text.value)"
   ]
  },
  {
   "cell_type": "markdown",
   "metadata": {},
   "source": [
    "## LLM response says remove but the code is covered\n",
    "\n",
    "### Case 1"
   ]
  },
  {
   "cell_type": "code",
   "execution_count": 12,
   "metadata": {},
   "outputs": [
    {
     "name": "stdout",
     "output_type": "stream",
     "text": [
      "Number of messages: 2\n",
      "\n",
      "user: tmp___16 = 0;\n",
      "\n",
      "assistant: 1) Importance Score: 3\n",
      "2) Remove\n",
      "3) The code snippet seems to be setting the variable \"tmp___16\" to 0. While this snippet appears to be related to the broader program, the specific relevance or impact of this variable setting on the overall functionality, generality, and security of the program is not immediately clear. Therefore, it seems safe to remove this code snippet as its impact on the rest of the program is not explicitly evident.\n"
     ]
    }
   ],
   "source": [
    "in_val = \"\"\"tmp___16 = 0;\"\"\"\n",
    "\n",
    "x = client_query(in_val)\n",
    "\n",
    "append_to_file(x[1].content[0].text.value, x[0].content[0].text.value)"
   ]
  },
  {
   "cell_type": "markdown",
   "metadata": {},
   "source": [
    "### Case 3"
   ]
  },
  {
   "cell_type": "code",
   "execution_count": 18,
   "metadata": {},
   "outputs": [
    {
     "name": "stdout",
     "output_type": "stream",
     "text": [
      "Number of messages: 2\n",
      "\n",
      "user: tmp = 512;\n",
      "\n",
      "assistant: 1) Importance Score: 5\n",
      "2) Don't Remove\n",
      "3) The provided code snippet does not have a direct context provided, but based on the surrounding code related to file and directory manipulation, it appears to be a part of a larger program that handles directory operations. Removing this snippet might impact the program's ability to open directories and perform file operations, affecting functionality and security due to potential errors or unexpected behavior in directory handling.\n",
      "\n",
      "However, without the full context of the program, it's difficult to assess the exact importance of this snippet in terms of generality and functionality. Therefore, the importance score is moderate, and it's advisable not to remove it to avoid potential adverse effects on the program's directory operations.\n"
     ]
    }
   ],
   "source": [
    "in_val = \"\"\"tmp = 512;\"\"\"\n",
    "\n",
    "x = client_query(in_val)\n",
    "\n",
    "append_to_file(x[1].content[0].text.value, x[0].content[0].text.value)"
   ]
  }
 ],
 "metadata": {
  "kernelspec": {
   "display_name": "Python 3",
   "language": "python",
   "name": "python3"
  },
  "language_info": {
   "codemirror_mode": {
    "name": "ipython",
    "version": 3
   },
   "file_extension": ".py",
   "mimetype": "text/x-python",
   "name": "python",
   "nbconvert_exporter": "python",
   "pygments_lexer": "ipython3",
   "version": "3.11.8"
  }
 },
 "nbformat": 4,
 "nbformat_minor": 2
}
